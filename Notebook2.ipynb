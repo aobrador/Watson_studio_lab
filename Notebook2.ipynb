{
 "cells": [
  {
   "cell_type": "code",
   "execution_count": 1,
   "id": "950be91c-c4a7-4685-9470-c9a1d283b87b",
   "metadata": {
    "id": "9040b16e-8416-433f-ae98-a0b19e695ea8",
    "tags": []
   },
   "outputs": [
    {
     "name": "stdout",
     "output_type": "stream",
     "text": [
      "Hello world, this is notebook 2\n"
     ]
    }
   ],
   "source": [
    "print (\"Hello world, this is notebook 2\")"
   ]
  },
  {
   "cell_type": "code",
   "execution_count": null,
   "id": "09821627-e263-4c88-b4d1-b7780dc8c5bc",
   "metadata": {
    "id": "09821627-e263-4c88-b4d1-b7780dc8c5bc"
   },
   "outputs": [],
   "source": []
  }
 ],
 "metadata": {
  "kernelspec": {
   "display_name": "Python 3.9",
   "language": "python",
   "name": "python3"
  },
  "language_info": {
   "codemirror_mode": {
    "name": "ipython",
    "version": 3
   },
   "file_extension": ".py",
   "mimetype": "text/x-python",
   "name": "python",
   "nbconvert_exporter": "python",
   "pygments_lexer": "ipython3",
   "version": "3.9.7"
  }
 },
 "nbformat": 4,
 "nbformat_minor": 5
}
