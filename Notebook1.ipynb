{
 "cells": [
  {
   "cell_type": "code",
   "execution_count": 1,
   "id": "874e29c3-d2cd-497e-8584-2c5774436ccc",
   "metadata": {
    "id": "c1bcbc5f-82cb-4e67-bc67-2f8a8f7bb5d2",
    "tags": []
   },
   "outputs": [
    {
     "name": "stdout",
     "output_type": "stream",
     "text": [
      "Hello World, this is notebook 1.\n"
     ]
    }
   ],
   "source": [
    "print (\"Hello World, this is notebook 1.\")"
   ]
  },
  {
   "cell_type": "code",
   "execution_count": null,
   "id": "17b14a0e-30bd-43c0-8e4b-b19ce2c5e1d6",
   "metadata": {
    "id": "17b14a0e-30bd-43c0-8e4b-b19ce2c5e1d6"
   },
   "outputs": [],
   "source": []
  }
 ],
 "metadata": {
  "kernelspec": {
   "display_name": "Python 3.9",
   "language": "python",
   "name": "python3"
  },
  "language_info": {
   "codemirror_mode": {
    "name": "ipython",
    "version": 3
   },
   "file_extension": ".py",
   "mimetype": "text/x-python",
   "name": "python",
   "nbconvert_exporter": "python",
   "pygments_lexer": "ipython3",
   "version": "3.9.7"
  }
 },
 "nbformat": 4,
 "nbformat_minor": 5
}
